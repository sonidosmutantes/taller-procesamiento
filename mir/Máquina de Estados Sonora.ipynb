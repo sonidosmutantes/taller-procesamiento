{
 "metadata": {
  "kernelspec": {
   "display_name": "Python 2",
   "language": "python",
   "name": "python2"
  },
  "language_info": {
   "codemirror_mode": {
    "name": "ipython",
    "version": 2
   },
   "file_extension": ".py",
   "mimetype": "text/x-python",
   "name": "python",
   "nbconvert_exporter": "python",
   "pygments_lexer": "ipython2",
   "version": "2.7.6"
  },
  "name": "",
  "signature": "sha256:aee8321ccdb39fe666815682098f3793fa9dc9dfee1aa1158b2f1ad1fc02d68f"
 },
 "nbformat": 3,
 "nbformat_minor": 0,
 "worksheets": [
  {
   "cells": [
    {
     "cell_type": "code",
     "collapsed": true,
     "input": [
      "import pykov\n",
      "# Doc at https://github.com/riccardoscalco/Pykov\n",
      "# $ pip install git+git://github.com/riccardoscalco/Pykov@master #both Python2 and Python3\n",
      "# Note that Pykov depends on numpy and scipy\n",
      "import time\n",
      "import random"
     ],
     "language": "python",
     "metadata": {},
     "outputs": [],
     "prompt_number": 8
    },
    {
     "cell_type": "code",
     "collapsed": false,
     "input": [
      "T = pykov.Matrix()"
     ],
     "language": "python",
     "metadata": {},
     "outputs": [],
     "prompt_number": 2
    },
    {
     "cell_type": "code",
     "collapsed": false,
     "input": [
      "# 3 states  (each row must sum 1)\n",
      "# idle -> no sound\n",
      "# harmonic -> choose one harmonic sound (or note) from database with a given frec and time?\n",
      "# inharmonic\n",
      "\n",
      "T['idle','harmonic'] = .4\n",
      "T['idle','inharmonic'] = .1\n",
      "T['idle','idle'] = .5\n",
      "\n",
      "T['harmonic','idle'] = .2\n",
      "T['harmonic','inharmonic'] = .1\n",
      "T['harmonic','harmonic'] = .7\n",
      "\n",
      "T['inharmonic','idle'] = .9\n",
      "T['inharmonic','inharmonic'] = .1\n",
      "#T['inharmonic','inharmonic'] = 0\n"
     ],
     "language": "python",
     "metadata": {},
     "outputs": [],
     "prompt_number": 3
    },
    {
     "cell_type": "code",
     "collapsed": false,
     "input": [
      "T"
     ],
     "language": "python",
     "metadata": {},
     "outputs": [
      {
       "metadata": {},
       "output_type": "pyout",
       "prompt_number": 4,
       "text": [
        "Matrix([(('idle', 'harmonic'), 0.4),\n",
        "        (('idle', 'inharmonic'), 0.1),\n",
        "        (('idle', 'idle'), 0.5),\n",
        "        (('harmonic', 'idle'), 0.2),\n",
        "        (('harmonic', 'inharmonic'), 0.1),\n",
        "        (('harmonic', 'harmonic'), 0.7),\n",
        "        (('inharmonic', 'idle'), 0.9),\n",
        "        (('inharmonic', 'inharmonic'), 0.1)])"
       ]
      }
     ],
     "prompt_number": 4
    },
    {
     "cell_type": "code",
     "collapsed": true,
     "input": [
      "T.stochastic() #check"
     ],
     "language": "python",
     "metadata": {},
     "outputs": [],
     "prompt_number": 5
    },
    {
     "cell_type": "code",
     "collapsed": false,
     "input": [
      "events = 10 # or loop with while(1)\n",
      "state = 'idle' #start state\n",
      "for i in range(events):\n",
      "      print( state ) # call the right method for the state here\n",
      "      state = T.succ(state).choose() #new state\n",
      "      #time_between_notes = random.uniform(0.,2.) #in seconds\n",
      "      #time.sleep(time_between_notes)"
     ],
     "language": "python",
     "metadata": {},
     "outputs": [
      {
       "output_type": "stream",
       "stream": "stdout",
       "text": [
        "idle\n",
        "idle\n",
        "harmonic\n",
        "harmonic\n",
        "harmonic\n",
        "harmonic\n",
        "harmonic\n",
        "inharmonic\n",
        "idle\n",
        "harmonic\n"
       ]
      }
     ],
     "prompt_number": 9
    },
    {
     "cell_type": "markdown",
     "metadata": {},
     "source": [
      "Aplicaci\u00f3n con sonido en: https://github.com/sonidosmutantes/apicultor/blob/master/SimpleStateMachine.py"
     ]
    }
   ],
   "metadata": {}
  }
 ]
}